{
 "cells": [
  {
   "cell_type": "code",
   "execution_count": 7,
   "id": "e9685d6d-a8ae-4f98-802f-ba95bfd9cea8",
   "metadata": {},
   "outputs": [],
   "source": [
    "import psycopg2\n",
    "from psycopg2 import sql\n",
    "import random\n",
    "import pandas as pd\n",
    "from datetime import datetime\n",
    "\n",
    "# Database connection parameters\n",
    "conn = psycopg2.connect(\n",
    "    dbname=\"internetOfThings\",\n",
    "    user=\"admin\",\n",
    "    password=\"admin\",\n",
    "    host=\"localhost\",\n",
    "    port=\"5432\"\n",
    ")\n"
   ]
  },
  {
   "cell_type": "code",
   "execution_count": 10,
   "id": "a8dc28ba-8f32-4c87-b4c8-ed821140ec54",
   "metadata": {},
   "outputs": [
    {
     "name": "stdout",
     "output_type": "stream",
     "text": [
      "Index(['date', 'time', 'activity', 'acceleration_x', 'acceleration_y',\n",
      "       'acceleration_z', 'gyro_x', 'gyro_y', 'gyro_z'],\n",
      "      dtype='object')\n"
     ]
    }
   ],
   "source": [
    "df = pd.read_csv('trainning.data', delimiter=';')\n",
    "print(df.keys())"
   ]
  },
  {
   "cell_type": "code",
   "execution_count": 29,
   "id": "5fc537d8-f24f-4f04-800d-f1ed7e447ea9",
   "metadata": {},
   "outputs": [
    {
     "name": "stdout",
     "output_type": "stream",
     "text": [
      "13:51:15:847724020\n",
      "01/07/23\n",
      "0\n",
      "2024-11-28 15:30:59.077552\n"
     ]
    }
   ],
   "source": [
    "df_date = df['date']\n",
    "df_time = df['time']\n",
    "df_activity = df['activity']\n",
    "print(df_time[0])\n",
    "print(df_date[0])\n",
    "print(df_activity[0])\n",
    "print(datetime.now())"
   ]
  },
  {
   "cell_type": "code",
   "execution_count": 27,
   "id": "7330a846-7ad8-4b54-8de5-01532ed62383",
   "metadata": {},
   "outputs": [],
   "source": [
    "timestamps = []\n",
    "# Loop through all rows in df_date and df_time\n",
    "for date_str, time_str in zip(df_date, df_time):\n",
    "    # Convert date to full year format\n",
    "    date_parts = date_str.split(\"/\")\n",
    "    full_date = f\"20{date_parts[2]}-{date_parts[1]}-{date_parts[0]}\"\n",
    "    \n",
    "    # Convert time to required format (nanoseconds to microseconds)\n",
    "    time_parts = time_str.split(\":\")\n",
    "    time_str_with_microseconds = f\"{time_parts[0]}:{time_parts[1]}:{time_parts[2]}.{str(int(time_parts[3]) // 1000).zfill(6)}\"\n",
    "    \n",
    "    # Combine date and time into timestamp string\n",
    "    timestamp = f\"{full_date} {time_str_with_microseconds}\"\n",
    "    \n",
    "    # Append the timestamp to the list\n",
    "    timestamps.append(timestamp)\n",
    "\n",
    "# Output the list of timestamps"
   ]
  },
  {
   "cell_type": "code",
   "execution_count": 30,
   "id": "40695a2f-db1f-475d-a8f0-0977fe40fc27",
   "metadata": {},
   "outputs": [],
   "source": [
    "weight = 85\n",
    "height = 184\n",
    "meters_per_second = 1.36\n",
    "\n",
    "for timestamp_str, prediction in zip(timestamps, df_activity):\n",
    "    try:\n",
    "        # Save the original meters_per_second to restore after modification\n",
    "        original_mps = meters_per_second\n",
    "        \n",
    "        # If prediction is 1, double the meters_per_second\n",
    "        if prediction == 1:\n",
    "            meters_per_second *= 2\n",
    "\n",
    "        with conn.cursor() as cursor:\n",
    "            # Insert data into the activity_table\n",
    "            cursor.execute(\n",
    "                \"\"\"\n",
    "                INSERT INTO activity_table (activity_time, activity_status, weight, height, meters_per_second)\n",
    "                VALUES (%s, %s, %s, %s, %s)\n",
    "                \"\"\",\n",
    "                (timestamp_str, prediction, weight, height, meters_per_second)\n",
    "            )\n",
    "            conn.commit()\n",
    "        \n",
    "        # Restore meters_per_second for next iteration\n",
    "        meters_per_second = original_mps\n",
    "        \n",
    "    except Exception as e:\n",
    "        print(f\"Cannot insert: {str(e)}\")\n"
   ]
  },
  {
   "cell_type": "code",
   "execution_count": null,
   "id": "37ee3f47-05ba-405f-9ae9-2cabd5c219f4",
   "metadata": {},
   "outputs": [],
   "source": []
  }
 ],
 "metadata": {
  "kernelspec": {
   "display_name": "Python AAA",
   "language": "python",
   "name": "aaa"
  },
  "language_info": {
   "codemirror_mode": {
    "name": "ipython",
    "version": 3
   },
   "file_extension": ".py",
   "mimetype": "text/x-python",
   "name": "python",
   "nbconvert_exporter": "python",
   "pygments_lexer": "ipython3",
   "version": "3.12.7"
  }
 },
 "nbformat": 4,
 "nbformat_minor": 5
}
