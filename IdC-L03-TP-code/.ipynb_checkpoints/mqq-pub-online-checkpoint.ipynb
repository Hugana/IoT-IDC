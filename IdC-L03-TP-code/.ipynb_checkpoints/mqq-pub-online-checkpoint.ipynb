{
 "cells": [
  {
   "cell_type": "code",
   "execution_count": 6,
   "id": "ee722bf2-4225-4398-a2e6-41aa5253a2d9",
   "metadata": {},
   "outputs": [
    {
     "name": "stdout",
     "output_type": "stream",
     "text": [
      "connected\n",
      "Message '{\"timestamp\": \"2024-10-18T01:30:41.750896\", \"acceleration_x\": 0.0658, \"acceleration_y\": -1.0527, \"acceleration_z\": -0.2025, \"gyro_x\": 0.6859, \"gyro_y\": -0.0266, \"gyro_z\": 0.476}' is published to topic 'idc/FCxx'\n",
      "Message '{\"timestamp\": \"2024-10-18T01:30:42.751641\", \"acceleration_x\": 0.272, \"acceleration_y\": -0.7855, \"acceleration_z\": -0.2136, \"gyro_x\": 0.819, \"gyro_y\": -0.223, \"gyro_z\": 0.6257}' is published to topic 'idc/FCxx'\n",
      "Message '{\"timestamp\": \"2024-10-18T01:30:43.752168\", \"acceleration_x\": 0.3877, \"acceleration_y\": -1.2523, \"acceleration_z\": -0.3981, \"gyro_x\": -0.3096, \"gyro_y\": -0.7895, \"gyro_z\": -0.0339}' is published to topic 'idc/FCxx'\n",
      "Message '{\"timestamp\": \"2024-10-18T01:30:44.753296\", \"acceleration_x\": 0.2469, \"acceleration_y\": -0.9776, \"acceleration_z\": -0.1267, \"gyro_x\": -1.6687, \"gyro_y\": -0.3728, \"gyro_z\": -1.9334}' is published to topic 'idc/FCxx'\n",
      "Message '{\"timestamp\": \"2024-10-18T01:30:45.753795\", \"acceleration_x\": 0.2469, \"acceleration_y\": -0.8865, \"acceleration_z\": -0.0648, \"gyro_x\": -0.4948, \"gyro_y\": 0.1052, \"gyro_z\": -0.4319}' is published to topic 'idc/FCxx'\n",
      "Message '{\"timestamp\": \"2024-10-18T01:30:46.754336\", \"acceleration_x\": 0.262, \"acceleration_y\": -1.0921, \"acceleration_z\": -0.3167, \"gyro_x\": 1.2078, \"gyro_y\": 0.0641, \"gyro_z\": 1.794}' is published to topic 'idc/FCxx'\n",
      "Message '{\"timestamp\": \"2024-10-18T01:30:47.754845\", \"acceleration_x\": 0.2426, \"acceleration_y\": -0.7196, \"acceleration_z\": -0.2247, \"gyro_x\": 0.9052, \"gyro_y\": 0.3209, \"gyro_z\": 1.1882}' is published to topic 'idc/FCxx'\n",
      "Message '{\"timestamp\": \"2024-10-18T01:30:48.755528\", \"acceleration_x\": 0.2578, \"acceleration_y\": -1.2583, \"acceleration_z\": -0.3942, \"gyro_x\": 0.0385, \"gyro_y\": 0.37, \"gyro_z\": 0.1407}' is published to topic 'idc/FCxx'\n",
      "Message '{\"timestamp\": \"2024-10-18T01:30:49.756423\", \"acceleration_x\": 0.232, \"acceleration_y\": -1.1796, \"acceleration_z\": -0.1831, \"gyro_x\": -1.3377, \"gyro_y\": -0.522, \"gyro_z\": -1.0762}' is published to topic 'idc/FCxx'\n",
      "Message '{\"timestamp\": \"2024-10-18T01:30:50.757238\", \"acceleration_x\": 0.1479, \"acceleration_y\": -0.8001, \"acceleration_z\": -0.0704, \"gyro_x\": -1.0981, \"gyro_y\": -0.0103, \"gyro_z\": -1.8828}' is published to topic 'idc/FCxx'\n",
      "Message '{\"timestamp\": \"2024-10-18T01:30:51.757636\", \"acceleration_x\": 0.2482, \"acceleration_y\": -1.0002, \"acceleration_z\": -0.2616, \"gyro_x\": 1.0709, \"gyro_y\": -0.1145, \"gyro_z\": 1.2998}' is published to topic 'idc/FCxx'\n",
      "Message '{\"timestamp\": \"2024-10-18T01:30:52.758617\", \"acceleration_x\": 0.1903, \"acceleration_y\": -0.8585, \"acceleration_z\": -0.2978, \"gyro_x\": 0.8388, \"gyro_y\": 0.6986, \"gyro_z\": 1.0039}' is published to topic 'idc/FCxx'\n"
     ]
    },
    {
     "ename": "KeyboardInterrupt",
     "evalue": "",
     "output_type": "error",
     "traceback": [
      "\u001b[0;31m---------------------------------------------------------------------------\u001b[0m",
      "\u001b[0;31mKeyboardInterrupt\u001b[0m                         Traceback (most recent call last)",
      "Cell \u001b[0;32mIn[6], line 40\u001b[0m\n\u001b[1;32m     38\u001b[0m \u001b[38;5;28;01mtry\u001b[39;00m:\n\u001b[1;32m     39\u001b[0m     \u001b[38;5;28;01mwhile\u001b[39;00m msg_count \u001b[38;5;241m<\u001b[39m \u001b[38;5;28mlen\u001b[39m(messages):\n\u001b[0;32m---> 40\u001b[0m         \u001b[43mtime\u001b[49m\u001b[38;5;241;43m.\u001b[39;49m\u001b[43msleep\u001b[49m\u001b[43m(\u001b[49m\u001b[38;5;241;43m1\u001b[39;49m\u001b[43m)\u001b[49m\n\u001b[1;32m     42\u001b[0m         \u001b[38;5;66;03m# Create a message with the current timestamp and sensor data\u001b[39;00m\n\u001b[1;32m     43\u001b[0m         msg \u001b[38;5;241m=\u001b[39m messages[msg_count]\n",
      "\u001b[0;31mKeyboardInterrupt\u001b[0m: "
     ]
    }
   ],
   "source": [
    "import paho.mqtt.client as mqtt\n",
    "import time\n",
    "import csv\n",
    "import json  # Import the json library\n",
    "from datetime import datetime\n",
    "\n",
    "broker_hostname = \"localhost\"\n",
    "port = 1883 \n",
    "\n",
    "def on_connect(client, userdata, flags, return_code):\n",
    "    if return_code == 0:\n",
    "        print(\"connected\")\n",
    "    else:\n",
    "        print(\"could not connect, return code:\", return_code)\n",
    "\n",
    "client = mqtt.Client(\"Client1\")\n",
    "client.on_connect = on_connect\n",
    "\n",
    "client.connect(broker_hostname, port)\n",
    "client.loop_start()\n",
    "\n",
    "topic = \"idc/FCxx\"\n",
    "\n",
    "# Path to the CSV file containing sensor data\n",
    "file_path = \"online.csv\"\n",
    "\n",
    "# Load data from the CSV file\n",
    "messages = []\n",
    "\n",
    "with open(file_path, 'r') as file:\n",
    "    reader = csv.DictReader(file, delimiter=';')\n",
    "    for row in reader:\n",
    "        # Append each row to the messages list\n",
    "        messages.append(row)\n",
    "\n",
    "msg_count = 0\n",
    "\n",
    "try:\n",
    "    while msg_count < len(messages):\n",
    "        time.sleep(1)\n",
    "        \n",
    "        # Create a message with the current timestamp and sensor data\n",
    "        msg = messages[msg_count]\n",
    "        json_payload = {\n",
    "            \"timestamp\": datetime.now().isoformat(),\n",
    "            \"acceleration_x\": float(msg['acceleration_x']),\n",
    "            \"acceleration_y\": float(msg['acceleration_y']),\n",
    "            \"acceleration_z\": float(msg['acceleration_z']),\n",
    "            \"gyro_x\": float(msg['gyro_x']),\n",
    "            \"gyro_y\": float(msg['gyro_y']),\n",
    "            \"gyro_z\": float(msg['gyro_z'])\n",
    "        }\n",
    "        \n",
    "        # Convert the dictionary to a JSON string\n",
    "        payload = json.dumps(json_payload)\n",
    "        \n",
    "        # Publish the JSON payload to the MQTT topic\n",
    "        result = client.publish(topic, payload)\n",
    "        status = result[0]\n",
    "        if status == 0:\n",
    "            print(f\"Message '{payload}' is published to topic '{topic}'\")\n",
    "        else:\n",
    "            print(f\"Failed to send message to topic '{topic}'\")\n",
    "        \n",
    "        msg_count += 1\n",
    "finally:\n",
    "    client.loop_stop()\n"
   ]
  },
  {
   "cell_type": "code",
   "execution_count": null,
   "id": "6b2d4535-b021-44df-a00e-6234fd856566",
   "metadata": {},
   "outputs": [],
   "source": []
  }
 ],
 "metadata": {
  "kernelspec": {
   "display_name": "Python 3 (ipykernel)",
   "language": "python",
   "name": "python3"
  },
  "language_info": {
   "codemirror_mode": {
    "name": "ipython",
    "version": 3
   },
   "file_extension": ".py",
   "mimetype": "text/x-python",
   "name": "python",
   "nbconvert_exporter": "python",
   "pygments_lexer": "ipython3",
   "version": "3.12.7"
  }
 },
 "nbformat": 4,
 "nbformat_minor": 5
}
