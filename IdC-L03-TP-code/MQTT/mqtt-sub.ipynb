{
 "cells": [
  {
   "cell_type": "code",
   "execution_count": null,
   "id": "cc05ad5e-b4cd-43c2-88d0-df13271744c5",
   "metadata": {},
   "outputs": [
    {
     "name": "stdout",
     "output_type": "stream",
     "text": [
      "connected\n",
      "Received message:  [{\"model\":\"iris-KNN\"},{\"SepalLengthCm\":5.9,\"SepalWidthCm\":3,\"PetalLengthCm\":5.1,\"PetalWidthCm\":1}]\n",
      "Received message:  [{\"model\":\"iris-GNB\"},{\"SepalLengthCm\":5.9,\"SepalWidthCm\":3,\"PetalLengthCm\":5.1,\"PetalWidthCm\":1}]\n",
      "Received message:  [{\"model\":\"iris-SVC\"},{\"SepalLengthCm\":5.9,\"SepalWidthCm\":3,\"PetalLengthCm\":5.1,\"PetalWidthCm\":1}]\n",
      "Received message:  [{\"model\":\"iris-DT\"},{\"SepalLengthCm\":5.9,\"SepalWidthCm\":3,\"PetalLengthCm\":5.1,\"PetalWidthCm\":1}]\n",
      "Received message:  [{\"model\":\"iris-LR\"},{\"SepalLengthCm\":5.9,\"SepalWidthCm\":3,\"PetalLengthCm\":5.1,\"PetalWidthCm\":1}]\n",
      "Received message:  [{\"model\":\"iris-LDA\"},{\"SepalLengthCm\":5.9,\"SepalWidthCm\":3,\"PetalLengthCm\":5.1,\"PetalWidthCm\":1}]\n"
     ]
    }
   ],
   "source": [
    "import paho.mqtt.client as mqtt\n",
    "import time\n",
    "\n",
    "def on_connect(client, userdata, flags, return_code):\n",
    "    if return_code == 0:\n",
    "        print(\"connected\")\n",
    "        client.subscribe(\"idc/iris\")\n",
    "    else:\n",
    "        print(\"could not connect, return code:\", return_code)\n",
    "\n",
    "\n",
    "def on_message(client, userdata, message):\n",
    "    print(\"Received message: \" ,str(message.payload.decode(\"utf-8\")))\n",
    "\n",
    "\n",
    "broker_hostname =\"localhost\"\n",
    "port = 1883 \n",
    "\n",
    "client = mqtt.Client(\"Client2\")\n",
    "# client.username_pw_set(username=\"user_name\", password=\"password\") # uncomment if you use password auth\n",
    "client.on_connect=on_connect\n",
    "client.on_message=on_message\n",
    "\n",
    "client.connect(broker_hostname, port) \n",
    "client.loop_start()\n",
    "\n",
    "try:\n",
    "    time.sleep(1000000)\n",
    "finally:\n",
    "    client.loop_stop()\n"
   ]
  },
  {
   "cell_type": "code",
   "execution_count": null,
   "id": "fed73e3f-6b8b-49a0-9fe4-f19848b83604",
   "metadata": {},
   "outputs": [],
   "source": []
  }
 ],
 "metadata": {
  "kernelspec": {
   "display_name": "Python 3 (ipykernel)",
   "language": "python",
   "name": "python3"
  },
  "language_info": {
   "codemirror_mode": {
    "name": "ipython",
    "version": 3
   },
   "file_extension": ".py",
   "mimetype": "text/x-python",
   "name": "python",
   "nbconvert_exporter": "python",
   "pygments_lexer": "ipython3",
   "version": "3.12.6"
  }
 },
 "nbformat": 4,
 "nbformat_minor": 5
}
