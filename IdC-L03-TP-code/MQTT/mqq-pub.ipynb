{
 "cells": [
  {
   "cell_type": "code",
   "execution_count": 1,
   "id": "ee722bf2-4225-4398-a2e6-41aa5253a2d9",
   "metadata": {},
   "outputs": [
    {
     "name": "stdout",
     "output_type": "stream",
     "text": [
      "connected\n",
      "Message [{\"model\":\"iris-KNN\"},{\"SepalLengthCm\":5.9,\"SepalWidthCm\":3,\"PetalLengthCm\":5.1,\"PetalWidthCm\":1}] is published to topic idc/iris\n",
      "Message [{\"model\":\"iris-GNB\"},{\"SepalLengthCm\":5.9,\"SepalWidthCm\":3,\"PetalLengthCm\":5.1,\"PetalWidthCm\":1}] is published to topic idc/iris\n",
      "Message [{\"model\":\"iris-SVC\"},{\"SepalLengthCm\":5.9,\"SepalWidthCm\":3,\"PetalLengthCm\":5.1,\"PetalWidthCm\":1}] is published to topic idc/iris\n",
      "Message [{\"model\":\"iris-DT\"},{\"SepalLengthCm\":5.9,\"SepalWidthCm\":3,\"PetalLengthCm\":5.1,\"PetalWidthCm\":1}] is published to topic idc/iris\n",
      "Message [{\"model\":\"iris-LR\"},{\"SepalLengthCm\":5.9,\"SepalWidthCm\":3,\"PetalLengthCm\":5.1,\"PetalWidthCm\":1}] is published to topic idc/iris\n",
      "Message [{\"model\":\"iris-LDA\"},{\"SepalLengthCm\":5.9,\"SepalWidthCm\":3,\"PetalLengthCm\":5.1,\"PetalWidthCm\":1}] is published to topic idc/iris\n"
     ]
    }
   ],
   "source": [
    "import paho.mqtt.client as mqtt \n",
    "import time\n",
    "\n",
    "broker_hostname = \"localhost\"\n",
    "port = 1883 \n",
    "\n",
    "def on_connect(client, userdata, flags, return_code):\n",
    "    if return_code == 0:\n",
    "        print(\"connected\")\n",
    "    else:\n",
    "        print(\"could not connect, return code:\", return_code)\n",
    "\n",
    "client = mqtt.Client(\"Client1\")\n",
    "# client.username_pw_set(username=\"user_name\", password=\"password\") # uncomment if you use password auth\n",
    "client.on_connect=on_connect\n",
    "\n",
    "client.connect(broker_hostname, port)\n",
    "client.loop_start()\n",
    "\n",
    "topic = \"idc/iris\"\n",
    "msg_count = 0\n",
    "\n",
    "msg = []\n",
    "msg.append('[{\"model\":\"iris-KNN\"},{\"SepalLengthCm\":5.9,\"SepalWidthCm\":3,\"PetalLengthCm\":5.1,\"PetalWidthCm\":1}]')\n",
    "msg.append('[{\"model\":\"iris-GNB\"},{\"SepalLengthCm\":5.9,\"SepalWidthCm\":3,\"PetalLengthCm\":5.1,\"PetalWidthCm\":1}]')\n",
    "msg.append('[{\"model\":\"iris-SVC\"},{\"SepalLengthCm\":5.9,\"SepalWidthCm\":3,\"PetalLengthCm\":5.1,\"PetalWidthCm\":1}]')\n",
    "msg.append('[{\"model\":\"iris-DT\"},{\"SepalLengthCm\":5.9,\"SepalWidthCm\":3,\"PetalLengthCm\":5.1,\"PetalWidthCm\":1}]')\n",
    "msg.append('[{\"model\":\"iris-LR\"},{\"SepalLengthCm\":5.9,\"SepalWidthCm\":3,\"PetalLengthCm\":5.1,\"PetalWidthCm\":1}]')\n",
    "msg.append('[{\"model\":\"iris-LDA\"},{\"SepalLengthCm\":5.9,\"SepalWidthCm\":3,\"PetalLengthCm\":5.1,\"PetalWidthCm\":1}]')\n",
    "\n",
    "try:\n",
    "    while msg_count < len(msg):\n",
    "        time.sleep(1)\n",
    "        result = client.publish(topic, msg[msg_count])\n",
    "        status = result[0]\n",
    "        if status == 0:\n",
    "            print(\"Message \"+ str(msg[msg_count]) + \" is published to topic \" + topic)\n",
    "        else:\n",
    "            print(\"Failed to send message to topic \" + topic)\n",
    "        msg_count += 1\n",
    "finally:\n",
    "    client.loop_stop()\n"
   ]
  },
  {
   "cell_type": "code",
   "execution_count": null,
   "id": "6b2d4535-b021-44df-a00e-6234fd856566",
   "metadata": {},
   "outputs": [],
   "source": []
  }
 ],
 "metadata": {
  "kernelspec": {
   "display_name": "Python 3 (ipykernel)",
   "language": "python",
   "name": "python3"
  },
  "language_info": {
   "codemirror_mode": {
    "name": "ipython",
    "version": 3
   },
   "file_extension": ".py",
   "mimetype": "text/x-python",
   "name": "python",
   "nbconvert_exporter": "python",
   "pygments_lexer": "ipython3",
   "version": "3.12.7"
  }
 },
 "nbformat": 4,
 "nbformat_minor": 5
}
